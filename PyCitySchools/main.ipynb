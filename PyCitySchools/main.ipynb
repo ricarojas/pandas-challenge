{
 "cells": [
  {
   "cell_type": "code",
   "execution_count": 25,
   "metadata": {},
   "outputs": [],
   "source": [
    "# Dependencies and Setup\n",
    "import pandas as pd\n",
    "import numpy as np\n",
    "\n",
    "# File to Load (Remember to Change These)\n",
    "school_data_to_load = \"../schools_complete.csv\"\n",
    "student_data_to_load = \"../students_complete.csv\"\n",
    "\n",
    "# Read School and Student Data File and store into Pandas DataFrames\n",
    "school_data = pd.read_csv(school_data_to_load)\n",
    "student_data = pd.read_csv(student_data_to_load)\n",
    "\n",
    "# Combine the data into a single dataset.  \n",
    "school_data_complete = pd.merge(student_data, school_data, how=\"left\", on=[\"school_name\", \"school_name\"])"
   ]
  },
  {
   "cell_type": "code",
   "execution_count": 47,
   "metadata": {},
   "outputs": [
    {
     "name": "stdout",
     "output_type": "stream",
     "text": [
      "Total schools:  15\n"
     ]
    }
   ],
   "source": [
    "#total number of unique schools\n",
    "#unique_schools = [\"school_name\"]\n",
    "#unique = {col: school_data_complete[col].unique() for col in unique_schools}\n",
    "\n",
    "#print total number of unique schools\n",
    "len(school_data)\n",
    "print(f\"Total schools: \", len(school_data))"
   ]
  },
  {
   "cell_type": "markdown",
   "metadata": {},
   "source": []
  },
  {
   "cell_type": "code",
   "execution_count": 49,
   "metadata": {},
   "outputs": [
    {
     "name": "stdout",
     "output_type": "stream",
     "text": [
      "Total number of students:  39169\n"
     ]
    }
   ],
   "source": [
    "#total number of students\n",
    "count_stu = school_data_complete.shape[0]-1\n",
    "count_stu\n",
    "\n",
    "print(f\"Total number of students: \", count_stu)"
   ]
  },
  {
   "cell_type": "code",
   "execution_count": 52,
   "metadata": {},
   "outputs": [
    {
     "name": "stdout",
     "output_type": "stream",
     "text": [
      "Total budget:  24649428\n"
     ]
    }
   ],
   "source": [
    "#total budget\n",
    "budget_df = pd.read_csv(\"../schools_complete.csv\")\n",
    "tot_bud = budget_df['budget'].sum()\n",
    "\n",
    "print (f\"Total budget: \", tot_bud)"
   ]
  },
  {
   "cell_type": "code",
   "execution_count": null,
   "metadata": {},
   "outputs": [],
   "source": [
    "math_df = "
   ]
  }
 ],
 "metadata": {
  "kernelspec": {
   "display_name": "PythonData",
   "language": "python",
   "name": "python3"
  },
  "language_info": {
   "codemirror_mode": {
    "name": "ipython",
    "version": 3
   },
   "file_extension": ".py",
   "mimetype": "text/x-python",
   "name": "python",
   "nbconvert_exporter": "python",
   "pygments_lexer": "ipython3",
   "version": "3.7.7"
  },
  "orig_nbformat": 4,
  "vscode": {
   "interpreter": {
    "hash": "333633001cc15ad93928d314fcba92f66f0fda7321b77b96773266965763bb3c"
   }
  }
 },
 "nbformat": 4,
 "nbformat_minor": 2
}
